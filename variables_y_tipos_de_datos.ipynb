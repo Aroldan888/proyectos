{
  "nbformat": 4,
  "nbformat_minor": 0,
  "metadata": {
    "colab": {
      "provenance": [],
      "name": "variables y tipos de datos"
    },
    "kernelspec": {
      "name": "python3",
      "display_name": "Python 3"
    },
    "language_info": {
      "name": "python"
    }
  },
  "cells": [
    {
      "cell_type": "code",
      "execution_count": null,
      "metadata": {
        "colab": {
          "base_uri": "https://localhost:8080/"
        },
        "id": "L46xVpc82uqK",
        "outputId": "7fd67411-8914-4a27-eda4-2a4e94fb9acb"
      },
      "outputs": [
        {
          "output_type": "stream",
          "name": "stdout",
          "text": [
            "Hola12345.6True\n",
            "15252\n"
          ]
        }
      ],
      "source": [
        "# Definir las variables\n",
        "cadena = \"Hola\"\n",
        "var1 = 123\n",
        "var2 = 45.6\n",
        "var3 = True\n",
        "\n",
        "# Convertir las variables a cadena\n",
        "var1_str = str(var1)\n",
        "var2_str = str(var2)\n",
        "var3_str = str(var3)\n",
        "\n",
        "# Concatenar las cadenas\n",
        "resultado = cadena + var1_str + var2_str + var3_str\n",
        "\n",
        "# Imprimir el resultado\n",
        "print(resultado)\n",
        "# En Python 3, el tipo int es ilimitado[^1^][1]. Sin embargo, el valor máximo representable por un float es aproximadamente 1.8 x 10^308[^2^][4][^3^][8].\n",
        "\n",
        "# Aplicar la fórmula de la suma de los primeros n números pares\n",
        "n = var1  # Usar la variable de tipo entero para n\n",
        "suma_pares = n * (n + 1)  # La fórmula para la suma de los primeros n números pares es n * (n + 1)[^4^][9][^5^][10][^6^][11][^7^][13]\n",
        "\n",
        "# Imprimir el resultado\n",
        "print(suma_pares)\n"
      ]
    }
  ]
}